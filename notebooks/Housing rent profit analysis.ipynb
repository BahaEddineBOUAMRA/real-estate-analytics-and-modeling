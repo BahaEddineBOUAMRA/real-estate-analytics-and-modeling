{
 "cells": [
  {
   "cell_type": "code",
   "execution_count": 33,
   "id": "e7285509",
   "metadata": {},
   "outputs": [],
   "source": [
    "import numpy as np\n",
    "import pandas as pd\n",
    "import matplotlib.pyplot as plt\n",
    "import seaborn as sns\n",
    "\n",
    "from sklearn.model_selection import train_test_split, GridSearchCV\n",
    "from sklearn.preprocessing import StandardScaler, LabelEncoder\n",
    "from sklearn.metrics import accuracy_score, confusion_matrix, classification_report\n",
    "from sklearn.linear_model import LogisticRegression\n",
    "from sklearn.ensemble import RandomForestClassifier, GradientBoostingClassifier\n",
    "from sklearn.svm import SVC\n",
    "from sklearn.neighbors import KNeighborsClassifier"
   ]
  },
  {
   "cell_type": "code",
   "execution_count": 37,
   "id": "cabf0559",
   "metadata": {},
   "outputs": [],
   "source": [
    "df1 = pd.read_csv(\"C:/Users/thinkpad/OneDrive/Bureau/real_estate_agent.csv\")"
   ]
  },
  {
   "cell_type": "code",
   "execution_count": 38,
   "id": "08ea04d9",
   "metadata": {},
   "outputs": [
    {
     "name": "stdout",
     "output_type": "stream",
     "text": [
      "<class 'pandas.core.frame.DataFrame'>\n",
      "RangeIndex: 70000 entries, 0 to 69999\n",
      "Data columns (total 27 columns):\n",
      " #   Column                Non-Null Count  Dtype  \n",
      "---  ------                --------------  -----  \n",
      " 0   location              70000 non-null  object \n",
      " 1   region_type           70000 non-null  object \n",
      " 2   property_type         70000 non-null  object \n",
      " 3   year_built            70000 non-null  int64  \n",
      " 4   condition             70000 non-null  object \n",
      " 5   furnishing            70000 non-null  object \n",
      " 6   bedrooms              70000 non-null  int64  \n",
      " 7   bathrooms             70000 non-null  object \n",
      " 8   stories               70000 non-null  int64  \n",
      " 9   parking               70000 non-null  int64  \n",
      " 10  garden                70000 non-null  bool   \n",
      " 11  lot_area_sqft         70000 non-null  float64\n",
      " 12  floor_area_sqft       70000 non-null  float64\n",
      " 13  price_usd             70000 non-null  float64\n",
      " 14  property_tax_usd      70000 non-null  float64\n",
      " 15  insurance_usd         70000 non-null  float64\n",
      " 16  maintenance_usd       70000 non-null  float64\n",
      " 17  rent_usd_month        70000 non-null  float64\n",
      " 18  median_income_usd     70000 non-null  int64  \n",
      " 19  employment_rate       70000 non-null  float64\n",
      " 20  unemployment_rate     70000 non-null  float64\n",
      " 21  cost_of_living_index  70000 non-null  int64  \n",
      " 22  crime_index           70000 non-null  int64  \n",
      " 23  safety_index          70000 non-null  int64  \n",
      " 24  annual_expenses       70000 non-null  float64\n",
      " 25  annual_net_rent       70000 non-null  float64\n",
      " 26  years_to_profit       70000 non-null  float64\n",
      "dtypes: bool(1), float64(12), int64(8), object(6)\n",
      "memory usage: 14.0+ MB\n"
     ]
    }
   ],
   "source": [
    "df1.info()"
   ]
  }
 ],
 "metadata": {
  "kernelspec": {
   "display_name": "base",
   "language": "python",
   "name": "python3"
  },
  "language_info": {
   "codemirror_mode": {
    "name": "ipython",
    "version": 3
   },
   "file_extension": ".py",
   "mimetype": "text/x-python",
   "name": "python",
   "nbconvert_exporter": "python",
   "pygments_lexer": "ipython3",
   "version": "3.11.5"
  }
 },
 "nbformat": 4,
 "nbformat_minor": 5
}
